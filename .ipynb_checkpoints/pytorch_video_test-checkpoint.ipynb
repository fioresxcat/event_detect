{
 "cells": [
  {
   "cell_type": "code",
   "execution_count": 1,
   "id": "7b943157-6311-4721-bf3c-a82565d9bba5",
   "metadata": {
    "tags": []
   },
   "outputs": [
    {
     "name": "stderr",
     "output_type": "stream",
     "text": [
      "Downloading: \"https://github.com/facebookresearch/pytorchvideo/zipball/main\" to /home/tungtx2/.cache/torch/hub/main.zip\n",
      "Downloading: \"https://dl.fbaipublicfiles.com/pytorchvideo/model_zoo/kinetics/X3D_S.pyth\" to /home/tungtx2/.cache/torch/hub/checkpoints/X3D_S.pyth\n"
     ]
    },
    {
     "data": {
      "application/vnd.jupyter.widget-view+json": {
       "model_id": "3387253bb3a947e89b32d8742cbe3881",
       "version_major": 2,
       "version_minor": 0
      },
      "text/plain": [
       "  0%|          | 0.00/29.4M [00:00<?, ?B/s]"
      ]
     },
     "metadata": {},
     "output_type": "display_data"
    }
   ],
   "source": [
    "import torch\n",
    "import time\n",
    "import numpy as np\n",
    "\n",
    "# Choose the `x3d_s` model\n",
    "model_name = 'x3d_s'\n",
    "model = torch.hub.load('facebookresearch/pytorchvideo', model_name, pretrained=True)"
   ]
  },
  {
   "cell_type": "code",
   "execution_count": 2,
   "id": "3176e65b-d83f-43ed-865c-7fce42bef08f",
   "metadata": {
    "tags": []
   },
   "outputs": [],
   "source": [
    "# Set to GPU or CPU\n",
    "device = \"cpu\"\n",
    "model = model.eval()\n",
    "model = model.to(device)"
   ]
  },
  {
   "cell_type": "code",
   "execution_count": 3,
   "id": "d292021e-348a-412b-ab21-8de793fae700",
   "metadata": {
    "tags": []
   },
   "outputs": [
    {
     "name": "stderr",
     "output_type": "stream",
     "text": [
      "/data/tungtx2/env_ocr/lib/python3.7/site-packages/torchvision/transforms/_functional_video.py:7: UserWarning: The 'torchvision.transforms._functional_video' module is deprecated since 0.12 and will be removed in the future. Please use the 'torchvision.transforms.functional' module instead.\n",
      "  \"The 'torchvision.transforms._functional_video' module is deprecated since 0.12 and will be removed in the future. \"\n",
      "/data/tungtx2/env_ocr/lib/python3.7/site-packages/torchvision/transforms/_transforms_video.py:23: UserWarning: The 'torchvision.transforms._transforms_video' module is deprecated since 0.12 and will be removed in the future. Please use the 'torchvision.transforms' module instead.\n",
      "  \"The 'torchvision.transforms._transforms_video' module is deprecated since 0.12 and will be removed in the future. \"\n"
     ]
    }
   ],
   "source": [
    "import json\n",
    "import urllib\n",
    "from pytorchvideo.data.encoded_video import EncodedVideo\n",
    "\n",
    "from torchvision.transforms import Compose, Lambda\n",
    "from torchvision.transforms._transforms_video import (\n",
    "    CenterCropVideo,\n",
    "    NormalizeVideo,\n",
    ")\n",
    "from pytorchvideo.transforms import (\n",
    "    ApplyTransformToKey,\n",
    "    ShortSideScale,\n",
    "    UniformTemporalSubsample\n",
    ")"
   ]
  },
  {
   "cell_type": "code",
   "execution_count": 4,
   "id": "08dd7521-a643-4899-935b-887b5362d677",
   "metadata": {
    "tags": []
   },
   "outputs": [],
   "source": [
    "json_url = \"https://dl.fbaipublicfiles.com/pyslowfast/dataset/class_names/kinetics_classnames.json\"\n",
    "json_filename = \"kinetics_classnames.json\"\n",
    "try: urllib.URLopener().retrieve(json_url, json_filename)\n",
    "except: urllib.request.urlretrieve(json_url, json_filename)"
   ]
  },
  {
   "cell_type": "code",
   "execution_count": 5,
   "id": "15a74d5b-cfed-430b-b4a1-1eae2b5bce4a",
   "metadata": {
    "tags": []
   },
   "outputs": [],
   "source": [
    "with open(json_filename, \"r\") as f:\n",
    "    kinetics_classnames = json.load(f)\n",
    "\n",
    "# Create an id to label name mapping\n",
    "kinetics_id_to_classname = {}\n",
    "for k, v in kinetics_classnames.items():\n",
    "    kinetics_id_to_classname[v] = str(k).replace('\"', \"\")"
   ]
  },
  {
   "cell_type": "code",
   "execution_count": 6,
   "id": "97ae7cdd-8987-4281-950f-ea0ad024ec10",
   "metadata": {
    "tags": []
   },
   "outputs": [],
   "source": [
    "mean = [0.45, 0.45, 0.45]\n",
    "std = [0.225, 0.225, 0.225]\n",
    "frames_per_second = 30\n",
    "model_transform_params  = {\n",
    "    \"x3d_xs\": {\n",
    "        \"side_size\": 182,\n",
    "        \"crop_size\": 182,\n",
    "        \"num_frames\": 4,\n",
    "        \"sampling_rate\": 12,\n",
    "    },\n",
    "    \"x3d_s\": {\n",
    "        \"side_size\": 182,\n",
    "        \"crop_size\": 182,\n",
    "        \"num_frames\": 13,   # có tất cả 13 frames sau khi sample\n",
    "        \"sampling_rate\": 6,  # 6 frame sample 1 lần\n",
    "    },\n",
    "    \"x3d_m\": {\n",
    "        \"side_size\": 256,\n",
    "        \"crop_size\": 256,\n",
    "        \"num_frames\": 16,\n",
    "        \"sampling_rate\": 5,\n",
    "    }\n",
    "}\n",
    "\n",
    "# Get transform parameters based on model\n",
    "transform_params = model_transform_params[model_name]\n",
    "\n",
    "# Note that this transform is specific to the slow_R50 model.\n",
    "transform =  ApplyTransformToKey(\n",
    "    key=\"video\",\n",
    "    transform=Compose(\n",
    "        [\n",
    "            UniformTemporalSubsample(transform_params[\"num_frames\"]),\n",
    "            Lambda(lambda x: x/255.0),\n",
    "            NormalizeVideo(mean, std),\n",
    "            ShortSideScale(size=transform_params[\"side_size\"]),\n",
    "            CenterCropVideo(\n",
    "                crop_size=(transform_params[\"crop_size\"], transform_params[\"crop_size\"])\n",
    "            )\n",
    "        ]\n",
    "    ),\n",
    ")\n",
    "\n",
    "# The duration of the input clip is also specific to the model.\n",
    "clip_duration = (transform_params[\"num_frames\"] * transform_params[\"sampling_rate\"])/frames_per_second"
   ]
  },
  {
   "cell_type": "code",
   "execution_count": 7,
   "id": "0b75cf04-c91b-4566-9214-062386daca48",
   "metadata": {
    "tags": []
   },
   "outputs": [],
   "source": [
    "url_link = \"https://dl.fbaipublicfiles.com/pytorchvideo/projects/archery.mp4\"\n",
    "video_path = 'archery.mp4'\n",
    "try: urllib.URLopener().retrieve(url_link, video_path)\n",
    "except: urllib.request.urlretrieve(url_link, video_path)"
   ]
  },
  {
   "cell_type": "code",
   "execution_count": 13,
   "id": "e41a5519-c8a5-456e-b798-6022e3d69a18",
   "metadata": {
    "tags": []
   },
   "outputs": [],
   "source": [
    "# Select the duration of the clip to load by specifying the start and end duration\n",
    "# The start_sec should correspond to where the action occurs in the video\n",
    "start_sec = 0\n",
    "end_sec = start_sec + clip_duration\n",
    "\n",
    "# Initialize an EncodedVideo helper class and load the video\n",
    "video = EncodedVideo.from_path(video_path)\n",
    "\n",
    "# Load the desired clip\n",
    "video_data = video.get_clip(start_sec=start_sec, end_sec=end_sec)\n",
    "\n",
    "# Apply a transform to normalize the video input\n",
    "video_data_transformed = transform(video_data)\n",
    "\n",
    "# Move the inputs to the desired device\n",
    "inputs = video_data_transformed[\"video\"]\n",
    "inputs = inputs.to(device)"
   ]
  },
  {
   "cell_type": "code",
   "execution_count": 29,
   "id": "0a64fd4f-c07b-43fc-809b-664201c46bac",
   "metadata": {
    "scrolled": true,
    "tags": []
   },
   "outputs": [],
   "source": [
    "# Select the duration of the clip to load by specifying the start and end duration\n",
    "# The start_sec should correspond to where the action occurs in the video\n",
    "start_sec = 0\n",
    "end_sec = start_sec + clip_duration\n",
    "\n",
    "# Initialize an EncodedVideo helper class and load the video\n",
    "video = EncodedVideo.from_path(video_path)\n",
    "\n",
    "# Load the desired clip\n",
    "video_data = video.get_clip(start_sec=start_sec, end_sec=9)"
   ]
  },
  {
   "cell_type": "code",
   "execution_count": 30,
   "id": "a869bdf7-9785-4c54-a6c1-8a28f8d5a657",
   "metadata": {
    "scrolled": true,
    "tags": []
   },
   "outputs": [
    {
     "name": "stdout",
     "output_type": "stream",
     "text": [
      "torch.Size([3, 270, 240, 320])\n"
     ]
    }
   ],
   "source": [
    "print(video_data['video'].shape)"
   ]
  },
  {
   "cell_type": "code",
   "execution_count": 31,
   "id": "25dca662-8521-489e-a653-35f4321c89c9",
   "metadata": {
    "tags": []
   },
   "outputs": [],
   "source": [
    "from PIL import Image\n",
    "\n",
    "img = video_data['video'][:, 150, :, :].squeeze()\n",
    "img = img.permute(1, 2, 0).cpu().numpy()\n",
    "img = (img).astype(np.uint8)\n",
    "Image.fromarray(img).save('a.jpg')"
   ]
  },
  {
   "cell_type": "code",
   "execution_count": 9,
   "id": "687e9256-0237-426c-a620-c2d88c72b293",
   "metadata": {
    "tags": []
   },
   "outputs": [
    {
     "name": "stdout",
     "output_type": "stream",
     "text": [
      "torch.Size([1, 400])\n",
      "Top 5 predicted labels: archery, throwing axe, golf driving, golf chipping, opening bottle\n"
     ]
    }
   ],
   "source": [
    "# Pass the input clip through the model\n",
    "preds = model(inputs[None, ...])\n",
    "print(preds.shape)\n",
    "# Get the predicted classes\n",
    "post_act = torch.nn.Softmax(dim=1)\n",
    "preds = post_act(preds)\n",
    "pred_classes = preds.topk(k=5).indices[0]\n",
    "\n",
    "# Map the predicted classes to the label names\n",
    "pred_class_names = [kinetics_id_to_classname[int(i)] for i in pred_classes]\n",
    "print(\"Top 5 predicted labels: %s\" % \", \".join(pred_class_names))"
   ]
  },
  {
   "cell_type": "code",
   "execution_count": null,
   "id": "d5b7a2ef-3799-4283-9766-9ee80bd3c754",
   "metadata": {},
   "outputs": [],
   "source": []
  }
 ],
 "metadata": {
  "kernelspec": {
   "display_name": "Python 3 (ipykernel)",
   "language": "python",
   "name": "python3"
  },
  "language_info": {
   "codemirror_mode": {
    "name": "ipython",
    "version": 3
   },
   "file_extension": ".py",
   "mimetype": "text/x-python",
   "name": "python",
   "nbconvert_exporter": "python",
   "pygments_lexer": "ipython3",
   "version": "3.7.5"
  }
 },
 "nbformat": 4,
 "nbformat_minor": 5
}
